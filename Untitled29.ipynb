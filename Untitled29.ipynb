{
  "nbformat": 4,
  "nbformat_minor": 0,
  "metadata": {
    "colab": {
      "provenance": [],
      "toc_visible": true,
      "include_colab_link": true
    },
    "kernelspec": {
      "name": "python3",
      "display_name": "Python 3"
    },
    "language_info": {
      "name": "python"
    }
  },
  "cells": [
    {
      "cell_type": "markdown",
      "metadata": {
        "id": "view-in-github",
        "colab_type": "text"
      },
      "source": [
        "<a href=\"https://colab.research.google.com/github/tehrimzahra/Agentic-AI-Chatbot-Prototype-1/blob/main/Untitled29.ipynb\" target=\"_parent\"><img src=\"https://colab.research.google.com/assets/colab-badge.svg\" alt=\"Open In Colab\"/></a>"
      ]
    },
    {
      "cell_type": "code",
      "execution_count": 4,
      "metadata": {
        "id": "x8MsyJzeMi-n"
      },
      "outputs": [],
      "source": [
        "import nltk\n",
        "from transformers import pipeline\n"
      ]
    },
    {
      "cell_type": "code",
      "source": [
        "# Predefined symptoms database\n",
        "symptom_data = {\n",
        "    \"fever\": {\n",
        "        \"medicine\": \"Paracetamol\",\n",
        "        \"precaution\": \"Stay hydrated, take rest, and avoid cold environments.\"\n",
        "    },\n",
        "    \"cold\": {\n",
        "        \"medicine\": \"Cetirizine\",\n",
        "        \"precaution\": \"Drink warm fluids, avoid allergens, and get plenty of rest.\"\n",
        "    },\n",
        "    \"headache\": {\n",
        "        \"medicine\": \"Ibuprofen\",\n",
        "        \"precaution\": \"Avoid stress, rest in a quiet room, and drink plenty of water.\"\n",
        "    },\n",
        "}\n",
        "\n",
        "# Function to fetch diagnosis\n",
        "def healthcare_chatbot(symptom):\n",
        "    symptom = symptom.lower()\n",
        "    if symptom in symptom_data:\n",
        "        response = symptom_data[symptom]\n",
        "        return (f\"Medicine: {response['medicine']}\\n\"\n",
        "                f\"Precaution: {response['precaution']}\")\n",
        "    else:\n",
        "        return \"Sorry, I couldn't find information on your symptom. Please consult a doctor.\"\n"
      ],
      "metadata": {
        "id": "IelDb7nSMn3n"
      },
      "execution_count": 5,
      "outputs": []
    },
    {
      "cell_type": "code",
      "source": [
        "# Input and chatbot response\n",
        "print(\"Welcome to the Healthcare Chatbot!\")\n",
        "user_input = input(\"Please enter your symptom: \")\n",
        "print(healthcare_chatbot(user_input))\n"
      ],
      "metadata": {
        "colab": {
          "base_uri": "https://localhost:8080/"
        },
        "id": "kFQvvThGM4w8",
        "outputId": "73939906-a855-44d8-97d1-37ed459717c0"
      },
      "execution_count": 6,
      "outputs": [
        {
          "output_type": "stream",
          "name": "stdout",
          "text": [
            "Welcome to the Healthcare Chatbot!\n",
            "Please enter your symptom: headche\n",
            "Sorry, I couldn't find information on your symptom. Please consult a doctor.\n"
          ]
        }
      ]
    }
  ]
}